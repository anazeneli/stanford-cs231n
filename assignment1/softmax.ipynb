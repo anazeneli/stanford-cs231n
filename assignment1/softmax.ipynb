{
 "cells": [
  {
   "cell_type": "markdown",
   "metadata": {},
   "source": [
    "# Softmax exercise\n",
    "\n",
    "*Complete and hand in this completed worksheet (including its outputs and any supporting code outside of the worksheet) with your assignment submission. For more details see the [assignments page](http://vision.stanford.edu/teaching/cs231n/assignments.html) on the course website.*\n",
    "\n",
    "This exercise is analogous to the SVM exercise. You will:\n",
    "\n",
    "- implement a fully-vectorized **loss function** for the Softmax classifier\n",
    "- implement the fully-vectorized expression for its **analytic gradient**\n",
    "- **check your implementation** with numerical gradient\n",
    "- use a validation set to **tune the learning rate and regularization** strength\n",
    "- **optimize** the loss function with **SGD**\n",
    "- **visualize** the final learned weights\n"
   ]
  },
  {
   "cell_type": "code",
   "execution_count": 1,
   "metadata": {
    "collapsed": false
   },
   "outputs": [],
   "source": [
    "import random\n",
    "import numpy as np\n",
    "from cs231n.data_utils import load_CIFAR10\n",
    "import matplotlib.pyplot as plt\n",
    "%matplotlib inline\n",
    "plt.rcParams['figure.figsize'] = (10.0, 8.0) # set default size of plots\n",
    "plt.rcParams['image.interpolation'] = 'nearest'\n",
    "plt.rcParams['image.cmap'] = 'gray'\n",
    "\n",
    "# for auto-reloading extenrnal modules\n",
    "# see http://stackoverflow.com/questions/1907993/autoreload-of-modules-in-ipython\n",
    "%load_ext autoreload\n",
    "%autoreload 2"
   ]
  },
  {
   "cell_type": "code",
   "execution_count": 4,
   "metadata": {
    "collapsed": false
   },
   "outputs": [
    {
     "name": "stdout",
     "output_type": "stream",
     "text": [
      "Train data shape:  (49000, 3073)\n",
      "Train labels shape:  (49000,)\n",
      "Validation data shape:  (1000, 3073)\n",
      "Validation labels shape:  (1000,)\n",
      "Test data shape:  (1000, 3073)\n",
      "Test labels shape:  (1000,)\n",
      "dev data shape:  (500, 3073)\n",
      "dev labels shape:  (500,)\n"
     ]
    }
   ],
   "source": [
    "def get_CIFAR10_data(num_training=49000, num_validation=1000, num_test=1000, num_dev=500):\n",
    "  \"\"\"\n",
    "  Load the CIFAR-10 dataset from disk and perform preprocessing to prepare\n",
    "  it for the linear classifier. These are the same steps as we used for the\n",
    "  SVM, but condensed to a single function.  \n",
    "  \"\"\"\n",
    "  # Load the raw CIFAR-10 data\n",
    "  cifar10_dir = 'cs231n/datasets/cifar-10-batches-py'\n",
    "  X_train, y_train, X_test, y_test = load_CIFAR10(cifar10_dir)\n",
    "  \n",
    "  # subsample the data\n",
    "  mask = range(num_training, num_training + num_validation)\n",
    "  X_val = X_train[mask]\n",
    "  y_val = y_train[mask]\n",
    "  mask = range(num_training)\n",
    "  X_train = X_train[mask]\n",
    "  y_train = y_train[mask]\n",
    "  mask = range(num_test)\n",
    "  X_test = X_test[mask]\n",
    "  y_test = y_test[mask]\n",
    "  mask = np.random.choice(num_training, num_dev, replace=False)\n",
    "  X_dev = X_train[mask]\n",
    "  y_dev = y_train[mask]\n",
    "  \n",
    "  # Preprocessing: reshape the image data into rows\n",
    "  X_train = np.reshape(X_train, (X_train.shape[0], -1))\n",
    "  X_val = np.reshape(X_val, (X_val.shape[0], -1))\n",
    "  X_test = np.reshape(X_test, (X_test.shape[0], -1))\n",
    "  X_dev = np.reshape(X_dev, (X_dev.shape[0], -1))\n",
    "  \n",
    "  # Normalize the data: subtract the mean image\n",
    "  mean_image = np.mean(X_train, axis = 0)\n",
    "  X_train -= mean_image\n",
    "  X_val -= mean_image\n",
    "  X_test -= mean_image\n",
    "  X_dev -= mean_image\n",
    "  \n",
    "  # add bias dimension and transform into columns\n",
    "  X_train = np.hstack([X_train, np.ones((X_train.shape[0], 1))])\n",
    "  X_val = np.hstack([X_val, np.ones((X_val.shape[0], 1))])\n",
    "  X_test = np.hstack([X_test, np.ones((X_test.shape[0], 1))])\n",
    "  X_dev = np.hstack([X_dev, np.ones((X_dev.shape[0], 1))])\n",
    "  \n",
    "  return X_train, y_train, X_val, y_val, X_test, y_test, X_dev, y_dev\n",
    "\n",
    "\n",
    "# Invoke the above function to get our data.\n",
    "X_train, y_train, X_val, y_val, X_test, y_test, X_dev, y_dev = get_CIFAR10_data()\n",
    "print 'Train data shape: ', X_train.shape\n",
    "print 'Train labels shape: ', y_train.shape\n",
    "print 'Validation data shape: ', X_val.shape\n",
    "print 'Validation labels shape: ', y_val.shape\n",
    "print 'Test data shape: ', X_test.shape\n",
    "print 'Test labels shape: ', y_test.shape\n",
    "print 'dev data shape: ', X_dev.shape\n",
    "print 'dev labels shape: ', y_dev.shape"
   ]
  },
  {
   "cell_type": "markdown",
   "metadata": {},
   "source": [
    "## Softmax Classifier\n",
    "\n",
    "Your code for this section will all be written inside **cs231n/classifiers/softmax.py**. \n"
   ]
  },
  {
   "cell_type": "code",
   "execution_count": 27,
   "metadata": {
    "collapsed": false
   },
   "outputs": [
    {
     "name": "stdout",
     "output_type": "stream",
     "text": [
      "loss: 2.377065\n",
      "sanity check: 2.302585\n"
     ]
    }
   ],
   "source": [
    "# First implement the naive softmax loss function with nested loops.\n",
    "# Open the file cs231n/classifiers/softmax.py and implement the\n",
    "# softmax_loss_naive function.\n",
    "\n",
    "from cs231n.classifiers.softmax import softmax_loss_naive\n",
    "import time\n",
    "\n",
    "# Generate a random softmax weight matrix and use it to compute the loss.\n",
    "W = np.random.randn(3073, 10) * 0.0001\n",
    "loss, grad = softmax_loss_naive(W, X_dev, y_dev, 0.0)\n",
    "\n",
    "# As a rough sanity check, our loss should be something close to -log(0.1).\n",
    "print 'loss: %f' % loss\n",
    "print 'sanity check: %f' % (-np.log(0.1))"
   ]
  },
  {
   "cell_type": "markdown",
   "metadata": {},
   "source": [
    "## Inline Question 1:\n",
    "Why do we expect our loss to be close to -log(0.1)? Explain briefly.**\n",
    "\n",
    "**Your answer:** Because we use a random weight matrix W, we expect each class to be picked randomly, or in other words, each class to have same expected scores s_j for each picture. As we have 10 classes, s_j == s_k and e^{s_j} == e^{s_k} for all j,k in 0,...,9. Thus the expecation of the term inside log becomes e^{s_k} / sum(e^{s_j} for j in xrange(10)) == e^{s_j} / sum(10 * e^{s_j}) == e^{s_j} / 10e^{s_j} == 1/10.\n"
   ]
  },
  {
   "cell_type": "code",
   "execution_count": 33,
   "metadata": {
    "collapsed": false
   },
   "outputs": [
    {
     "name": "stdout",
     "output_type": "stream",
     "text": [
      "numerical: -0.085341 analytic: -0.085341, relative error: 2.173328e-07\n",
      "numerical: 1.680966 analytic: 1.680966, relative error: 6.121875e-08\n",
      "numerical: -0.307726 analytic: -0.307726, relative error: 2.756518e-08\n",
      "numerical: 0.015060 analytic: 0.015060, relative error: 1.125405e-07\n",
      "numerical: 0.884848 analytic: 0.884848, relative error: 2.820909e-09\n",
      "numerical: 2.642362 analytic: 2.642362, relative error: 2.190718e-08\n",
      "numerical: -1.020725 analytic: -1.020725, relative error: 1.475431e-08\n",
      "numerical: -0.813738 analytic: -0.813738, relative error: 1.656195e-08\n",
      "numerical: 1.155389 analytic: 1.155389, relative error: 6.570507e-08\n",
      "numerical: 3.749308 analytic: 3.749307, relative error: 2.692565e-08\n",
      "numerical: 0.974308 analytic: 0.974308, relative error: 7.972644e-09\n",
      "numerical: -2.847515 analytic: -2.847516, relative error: 1.081555e-08\n",
      "numerical: -1.214018 analytic: -1.214018, relative error: 1.382152e-08\n",
      "numerical: -3.584319 analytic: -3.584319, relative error: 1.126869e-08\n",
      "numerical: 3.905462 analytic: 3.905462, relative error: 1.004423e-09\n",
      "numerical: 0.890685 analytic: 0.890685, relative error: 4.064244e-08\n",
      "numerical: 1.042020 analytic: 1.042020, relative error: 4.871608e-08\n",
      "numerical: -1.071293 analytic: -1.071293, relative error: 4.998504e-08\n",
      "numerical: -3.010535 analytic: -3.010535, relative error: 5.886260e-09\n",
      "numerical: 0.504819 analytic: 0.504819, relative error: 6.334786e-09\n"
     ]
    }
   ],
   "source": [
    "# Complete the implementation of softmax_loss_naive and implement a (naive)\n",
    "# version of the gradient that uses nested loops.\n",
    "loss, grad = softmax_loss_naive(W, X_dev, y_dev, 0.0)\n",
    "\n",
    "# As we did for the SVM, use numeric gradient checking as a debugging tool.\n",
    "# The numeric gradient should be close to the analytic gradient.\n",
    "from cs231n.gradient_check import grad_check_sparse\n",
    "f = lambda w: softmax_loss_naive(w, X_dev, y_dev, 0.0)[0]\n",
    "grad_numerical = grad_check_sparse(f, W, grad, 10)\n",
    "\n",
    "# similar to SVM case, do another gradient check with regularization\n",
    "loss, grad = softmax_loss_naive(W, X_dev, y_dev, 1e2)\n",
    "f = lambda w: softmax_loss_naive(w, X_dev, y_dev, 1e2)[0]\n",
    "grad_numerical = grad_check_sparse(f, W, grad, 10)"
   ]
  },
  {
   "cell_type": "code",
   "execution_count": 55,
   "metadata": {
    "collapsed": false
   },
   "outputs": [
    {
     "name": "stdout",
     "output_type": "stream",
     "text": [
      "naive loss: 2.377065e+00 computed in 0.147344s\n",
      "vectorized loss: 2.377065e+00 computed in 0.003651s\n",
      "Loss difference: 0.000000\n",
      "Gradient difference: 0.000000\n"
     ]
    }
   ],
   "source": [
    "# Now that we have a naive implementation of the softmax loss function and its gradient,\n",
    "# implement a vectorized version in softmax_loss_vectorized.\n",
    "# The two versions should compute the same results, but the vectorized version should be\n",
    "# much faster.\n",
    "tic = time.time()\n",
    "loss_naive, grad_naive = softmax_loss_naive(W, X_dev, y_dev, 0.00001)\n",
    "toc = time.time()\n",
    "print 'naive loss: %e computed in %fs' % (loss_naive, toc - tic)\n",
    "\n",
    "from cs231n.classifiers.softmax import softmax_loss_vectorized\n",
    "tic = time.time()\n",
    "loss_vectorized, grad_vectorized = softmax_loss_vectorized(W, X_dev, y_dev, 0.00001)\n",
    "toc = time.time()\n",
    "print 'vectorized loss: %e computed in %fs' % (loss_vectorized, toc - tic)\n",
    "\n",
    "# As we did for the SVM, we use the Frobenius norm to compare the two versions\n",
    "# of the gradient.\n",
    "grad_difference = np.linalg.norm(grad_naive - grad_vectorized, ord='fro')\n",
    "print 'Loss difference: %f' % np.abs(loss_naive - loss_vectorized)\n",
    "print 'Gradient difference: %f' % grad_difference"
   ]
  },
  {
   "cell_type": "code",
   "execution_count": 57,
   "metadata": {
    "collapsed": false
   },
   "outputs": [
    {
     "name": "stdout",
     "output_type": "stream",
     "text": [
      "lr 1.000000e-08 reg 1.000000e+04 train accuracy: 0.113367 val accuracy: 0.104000\n",
      "lr 1.000000e-08 reg 1.112000e+07 train accuracy: 0.238735 val accuracy: 0.258000\n",
      "lr 1.000000e-08 reg 2.223000e+07 train accuracy: 0.230837 val accuracy: 0.252000\n",
      "lr 1.000000e-08 reg 3.334000e+07 train accuracy: 0.241204 val accuracy: 0.251000\n",
      "lr 1.000000e-08 reg 4.445000e+07 train accuracy: 0.238571 val accuracy: 0.245000\n",
      "lr 1.000000e-08 reg 5.556000e+07 train accuracy: 0.225143 val accuracy: 0.221000\n",
      "lr 1.000000e-08 reg 6.667000e+07 train accuracy: 0.205735 val accuracy: 0.186000\n",
      "lr 1.000000e-08 reg 7.778000e+07 train accuracy: 0.235224 val accuracy: 0.245000\n",
      "lr 1.000000e-08 reg 8.889000e+07 train accuracy: 0.238673 val accuracy: 0.248000\n",
      "lr 1.000000e-08 reg 1.000000e+08 train accuracy: 0.213122 val accuracy: 0.204000\n",
      "lr 1.200000e-07 reg 1.000000e+04 train accuracy: 0.174000 val accuracy: 0.187000\n",
      "lr 1.200000e-07 reg 1.112000e+07 train accuracy: 0.212082 val accuracy: 0.213000\n",
      "lr 1.200000e-07 reg 2.223000e+07 train accuracy: 0.100265 val accuracy: 0.087000\n",
      "lr 1.200000e-07 reg 3.334000e+07 train accuracy: 0.100265 val accuracy: 0.087000\n",
      "lr 1.200000e-07 reg 4.445000e+07 train accuracy: 0.100265 val accuracy: 0.087000\n",
      "lr 1.200000e-07 reg 5.556000e+07 train accuracy: 0.100265 val accuracy: 0.087000\n",
      "lr 1.200000e-07 reg 6.667000e+07 train accuracy: 0.100265 val accuracy: 0.087000\n",
      "lr 1.200000e-07 reg 7.778000e+07 train accuracy: 0.100265 val accuracy: 0.087000\n",
      "lr 1.200000e-07 reg 8.889000e+07 train accuracy: 0.100265 val accuracy: 0.087000\n",
      "lr 1.200000e-07 reg 1.000000e+08 train accuracy: 0.100265 val accuracy: 0.087000\n",
      "lr 2.300000e-07 reg 1.000000e+04 train accuracy: 0.212592 val accuracy: 0.211000\n",
      "lr 2.300000e-07 reg 1.112000e+07 train accuracy: 0.100265 val accuracy: 0.087000\n",
      "lr 2.300000e-07 reg 2.223000e+07 train accuracy: 0.100265 val accuracy: 0.087000\n",
      "lr 2.300000e-07 reg 3.334000e+07 train accuracy: 0.100265 val accuracy: 0.087000\n",
      "lr 2.300000e-07 reg 4.445000e+07 train accuracy: 0.100265 val accuracy: 0.087000\n",
      "lr 2.300000e-07 reg 5.556000e+07 train accuracy: 0.100265 val accuracy: 0.087000\n",
      "lr 2.300000e-07 reg 6.667000e+07 train accuracy: 0.100265 val accuracy: 0.087000\n",
      "lr 2.300000e-07 reg 7.778000e+07 train accuracy: 0.100265 val accuracy: 0.087000\n",
      "lr 2.300000e-07 reg 8.889000e+07 train accuracy: 0.100265 val accuracy: 0.087000\n",
      "lr 2.300000e-07 reg 1.000000e+08 train accuracy: 0.100265 val accuracy: 0.087000\n",
      "lr 3.400000e-07 reg 1.000000e+04 train accuracy: 0.237184 val accuracy: 0.244000\n",
      "lr 3.400000e-07 reg 1.112000e+07 train accuracy: 0.100265 val accuracy: 0.087000\n",
      "lr 3.400000e-07 reg 2.223000e+07 train accuracy: 0.100265 val accuracy: 0.087000\n",
      "lr 3.400000e-07 reg 3.334000e+07 train accuracy: 0.100265 val accuracy: 0.087000\n",
      "lr 3.400000e-07 reg 4.445000e+07 train accuracy: 0.100265 val accuracy: 0.087000\n",
      "lr 3.400000e-07 reg 5.556000e+07 train accuracy: 0.100265 val accuracy: 0.087000\n",
      "lr 3.400000e-07 reg 6.667000e+07 train accuracy: 0.100265 val accuracy: 0.087000\n",
      "lr 3.400000e-07 reg 7.778000e+07 train accuracy: 0.100265 val accuracy: 0.087000\n",
      "lr 3.400000e-07 reg 8.889000e+07 train accuracy: 0.100265 val accuracy: 0.087000\n",
      "lr 3.400000e-07 reg 1.000000e+08 train accuracy: 0.100265 val accuracy: 0.087000\n",
      "lr 4.500000e-07 reg 1.000000e+04 train accuracy: 0.268408 val accuracy: 0.305000\n",
      "lr 4.500000e-07 reg 1.112000e+07 train accuracy: 0.100265 val accuracy: 0.087000\n",
      "lr 4.500000e-07 reg 2.223000e+07 train accuracy: 0.100265 val accuracy: 0.087000\n",
      "lr 4.500000e-07 reg 3.334000e+07 train accuracy: 0.100265 val accuracy: 0.087000\n",
      "lr 4.500000e-07 reg 4.445000e+07 train accuracy: 0.100265 val accuracy: 0.087000\n",
      "lr 4.500000e-07 reg 5.556000e+07 train accuracy: 0.100265 val accuracy: 0.087000\n",
      "lr 4.500000e-07 reg 6.667000e+07 train accuracy: 0.100265 val accuracy: 0.087000\n",
      "lr 4.500000e-07 reg 7.778000e+07 train accuracy: 0.100265 val accuracy: 0.087000\n",
      "lr 4.500000e-07 reg 8.889000e+07 train accuracy: 0.100265 val accuracy: 0.087000\n",
      "lr 4.500000e-07 reg 1.000000e+08 train accuracy: 0.100265 val accuracy: 0.087000\n",
      "lr 5.600000e-07 reg 1.000000e+04 train accuracy: 0.299490 val accuracy: 0.311000\n",
      "lr 5.600000e-07 reg 1.112000e+07 train accuracy: 0.100265 val accuracy: 0.087000\n",
      "lr 5.600000e-07 reg 2.223000e+07 train accuracy: 0.100265 val accuracy: 0.087000\n",
      "lr 5.600000e-07 reg 3.334000e+07 train accuracy: 0.100265 val accuracy: 0.087000\n",
      "lr 5.600000e-07 reg 4.445000e+07 train accuracy: 0.100265 val accuracy: 0.087000\n",
      "lr 5.600000e-07 reg 5.556000e+07 train accuracy: 0.100265 val accuracy: 0.087000\n",
      "lr 5.600000e-07 reg 6.667000e+07 train accuracy: 0.100265 val accuracy: 0.087000\n",
      "lr 5.600000e-07 reg 7.778000e+07 train accuracy: 0.100265 val accuracy: 0.087000\n",
      "lr 5.600000e-07 reg 8.889000e+07 train accuracy: 0.100265 val accuracy: 0.087000\n",
      "lr 5.600000e-07 reg 1.000000e+08 train accuracy: 0.100265 val accuracy: 0.087000\n",
      "lr 6.700000e-07 reg 1.000000e+04 train accuracy: 0.319592 val accuracy: 0.317000\n",
      "lr 6.700000e-07 reg 1.112000e+07 train accuracy: 0.100265 val accuracy: 0.087000\n",
      "lr 6.700000e-07 reg 2.223000e+07 train accuracy: 0.100265 val accuracy: 0.087000\n",
      "lr 6.700000e-07 reg 3.334000e+07 train accuracy: 0.100265 val accuracy: 0.087000\n",
      "lr 6.700000e-07 reg 4.445000e+07 train accuracy: 0.100265 val accuracy: 0.087000\n",
      "lr 6.700000e-07 reg 5.556000e+07 train accuracy: 0.100265 val accuracy: 0.087000\n",
      "lr 6.700000e-07 reg 6.667000e+07 train accuracy: 0.100265 val accuracy: 0.087000\n",
      "lr 6.700000e-07 reg 7.778000e+07 train accuracy: 0.100265 val accuracy: 0.087000\n",
      "lr 6.700000e-07 reg 8.889000e+07 train accuracy: 0.100265 val accuracy: 0.087000\n",
      "lr 6.700000e-07 reg 1.000000e+08 train accuracy: 0.100265 val accuracy: 0.087000\n",
      "lr 7.800000e-07 reg 1.000000e+04 train accuracy: 0.340163 val accuracy: 0.316000\n",
      "lr 7.800000e-07 reg 1.112000e+07 train accuracy: 0.100265 val accuracy: 0.087000\n",
      "lr 7.800000e-07 reg 2.223000e+07 train accuracy: 0.100265 val accuracy: 0.087000\n",
      "lr 7.800000e-07 reg 3.334000e+07 train accuracy: 0.100265 val accuracy: 0.087000\n",
      "lr 7.800000e-07 reg 4.445000e+07 train accuracy: 0.100265 val accuracy: 0.087000\n",
      "lr 7.800000e-07 reg 5.556000e+07 train accuracy: 0.100265 val accuracy: 0.087000\n",
      "lr 7.800000e-07 reg 6.667000e+07 train accuracy: 0.100265 val accuracy: 0.087000\n",
      "lr 7.800000e-07 reg 7.778000e+07 train accuracy: 0.100265 val accuracy: 0.087000\n",
      "lr 7.800000e-07 reg 8.889000e+07 train accuracy: 0.100265 val accuracy: 0.087000\n",
      "lr 7.800000e-07 reg 1.000000e+08 train accuracy: 0.100265 val accuracy: 0.087000\n",
      "lr 8.900000e-07 reg 1.000000e+04 train accuracy: 0.349878 val accuracy: 0.350000\n",
      "lr 8.900000e-07 reg 1.112000e+07 train accuracy: 0.100265 val accuracy: 0.087000\n",
      "lr 8.900000e-07 reg 2.223000e+07 train accuracy: 0.100265 val accuracy: 0.087000\n",
      "lr 8.900000e-07 reg 3.334000e+07 train accuracy: 0.100265 val accuracy: 0.087000\n",
      "lr 8.900000e-07 reg 4.445000e+07 train accuracy: 0.100265 val accuracy: 0.087000\n",
      "lr 8.900000e-07 reg 5.556000e+07 train accuracy: 0.100265 val accuracy: 0.087000\n",
      "lr 8.900000e-07 reg 6.667000e+07 train accuracy: 0.100265 val accuracy: 0.087000\n",
      "lr 8.900000e-07 reg 7.778000e+07 train accuracy: 0.100265 val accuracy: 0.087000\n",
      "lr 8.900000e-07 reg 8.889000e+07 train accuracy: 0.100265 val accuracy: 0.087000\n",
      "lr 8.900000e-07 reg 1.000000e+08 train accuracy: 0.100265 val accuracy: 0.087000\n",
      "lr 1.000000e-06 reg 1.000000e+04 train accuracy: 0.353939 val accuracy: 0.362000\n",
      "lr 1.000000e-06 reg 1.112000e+07 train accuracy: 0.100265 val accuracy: 0.087000\n",
      "lr 1.000000e-06 reg 2.223000e+07 train accuracy: 0.100265 val accuracy: 0.087000\n",
      "lr 1.000000e-06 reg 3.334000e+07 train accuracy: 0.100265 val accuracy: 0.087000\n",
      "lr 1.000000e-06 reg 4.445000e+07 train accuracy: 0.100265 val accuracy: 0.087000\n",
      "lr 1.000000e-06 reg 5.556000e+07 train accuracy: 0.100265 val accuracy: 0.087000\n",
      "lr 1.000000e-06 reg 6.667000e+07 train accuracy: 0.100265 val accuracy: 0.087000\n",
      "lr 1.000000e-06 reg 7.778000e+07 train accuracy: 0.100265 val accuracy: 0.087000\n",
      "lr 1.000000e-06 reg 8.889000e+07 train accuracy: 0.100265 val accuracy: 0.087000\n",
      "lr 1.000000e-06 reg 1.000000e+08 train accuracy: 0.100265 val accuracy: 0.087000\n",
      "best validation accuracy achieved during cross-validation: 0.362000\n"
     ]
    }
   ],
   "source": [
    "# Use the validation set to tune hyperparameters (regularization strength and\n",
    "# learning rate). You should experiment with different ranges for the learning\n",
    "# rates and regularization strengths; if you are careful you should be able to\n",
    "# get a classification accuracy of over 0.35 on the validation set.\n",
    "from cs231n.classifiers import Softmax\n",
    "results = {}\n",
    "best_val = -1\n",
    "best_softmax = None\n",
    "learning_rates = np.linspace(1e-8, 1e-6, 10) # [1e-7, 5e-7]\n",
    "regularization_strengths = np.linspace(1e4, 1e8, 10) # [5e4, 1e8]\n",
    "\n",
    "################################################################################\n",
    "# TODO:                                                                        #\n",
    "# Use the validation set to set the learning rate and regularization strength. #\n",
    "# This should be identical to the validation that you did for the SVM; save    #\n",
    "# the best trained softmax classifer in best_softmax.                          #\n",
    "################################################################################\n",
    "for lr in learning_rates:\n",
    "    for reg in regularization_strengths:\n",
    "        softmax = Softmax()\n",
    "        loss_hist = softmax.train(X_train, y_train, learning_rate=lr,\n",
    "                                  reg=reg, num_iters=200, batch_size=200,\n",
    "                                  verbose=False)\n",
    "        y_train_pred = softmax.predict(X_train)\n",
    "        train_accuracy = np.mean(y_train_pred == y_train)\n",
    "        y_val_pred   = softmax.predict(X_val)\n",
    "        val_accuracy = np.mean(y_val_pred == y_val)\n",
    "            \n",
    "        results[lr, reg] = (train_accuracy, val_accuracy)\n",
    "        \n",
    "        if best_val < val_accuracy:\n",
    "            best_val = val_accuracy\n",
    "            best_softmax = softmax\n",
    "################################################################################\n",
    "#                              END OF YOUR CODE                                #\n",
    "################################################################################\n",
    "    \n",
    "# Print out results.\n",
    "for lr, reg in sorted(results):\n",
    "    train_accuracy, val_accuracy = results[(lr, reg)]\n",
    "    print 'lr %e reg %e train accuracy: %f val accuracy: %f' % (\n",
    "                lr, reg, train_accuracy, val_accuracy)\n",
    "    \n",
    "print 'best validation accuracy achieved during cross-validation: %f' % best_val"
   ]
  },
  {
   "cell_type": "code",
   "execution_count": 58,
   "metadata": {
    "collapsed": false
   },
   "outputs": [
    {
     "name": "stdout",
     "output_type": "stream",
     "text": [
      "softmax on raw pixels final test set accuracy: 0.368000\n"
     ]
    }
   ],
   "source": [
    "# evaluate on test set\n",
    "# Evaluate the best softmax on test set\n",
    "y_test_pred = best_softmax.predict(X_test)\n",
    "test_accuracy = np.mean(y_test == y_test_pred)\n",
    "print 'softmax on raw pixels final test set accuracy: %f' % (test_accuracy, )"
   ]
  },
  {
   "cell_type": "code",
   "execution_count": 59,
   "metadata": {
    "collapsed": false
   },
   "outputs": [
    {
     "data": {
      "image/png": "[encoded data removed]",
      "text/plain": [
       "<matplotlib.figure.Figure at 0x114efcc90>"
      ]
     },
     "metadata": {},
     "output_type": "display_data"
    }
   ],
   "source": [
    "# Visualize the learned weights for each class\n",
    "w = best_softmax.W[:-1,:] # strip out the bias\n",
    "w = w.reshape(32, 32, 3, 10)\n",
    "\n",
    "w_min, w_max = np.min(w), np.max(w)\n",
    "\n",
    "classes = ['plane', 'car', 'bird', 'cat', 'deer', 'dog', 'frog', 'horse', 'ship', 'truck']\n",
    "for i in xrange(10):\n",
    "  plt.subplot(2, 5, i + 1)\n",
    "  \n",
    "  # Rescale the weights to be between 0 and 255\n",
    "  wimg = 255.0 * (w[:, :, :, i].squeeze() - w_min) / (w_max - w_min)\n",
    "  plt.imshow(wimg.astype('uint8'))\n",
    "  plt.axis('off')\n",
    "  plt.title(classes[i])"
   ]
  },
  {
   "cell_type": "code",
   "execution_count": null,
   "metadata": {
    "collapsed": true
   },
   "outputs": [],
   "source": []
  }
 ],
 "metadata": {
  "kernelspec": {
   "display_name": "Python 2",
   "language": "python",
   "name": "python2"
  },
  "language_info": {
   "codemirror_mode": {
    "name": "ipython",
    "version": 2
   },
   "file_extension": ".py",
   "mimetype": "text/x-python",
   "name": "python",
   "nbconvert_exporter": "python",
   "pygments_lexer": "ipython2",
   "version": "2.7.12"
  }
 },
 "nbformat": 4,
 "nbformat_minor": 0
}
